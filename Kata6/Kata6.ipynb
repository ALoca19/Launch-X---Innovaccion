{
 "cells": [
  {
   "cell_type": "markdown",
   "metadata": {},
   "source": [
    "# Kata 6\n"
   ]
  },
  {
   "cell_type": "markdown",
   "metadata": {},
   "source": [
    "### Ejercicio 01: Crear y Usar Listas\n"
   ]
  },
  {
   "cell_type": "code",
   "execution_count": 3,
   "metadata": {},
   "outputs": [
    {
     "name": "stdout",
     "output_type": "stream",
     "text": [
      "['Mercurio', 'Venus', 'Tierra', 'Marte', 'Jupiter', 'Saturno', 'Urano', 'Neptuno']\n",
      "El ultimo planeta es: Pluton\n"
     ]
    }
   ],
   "source": [
    "planetas = ['Mercurio', 'Venus', 'Tierra', 'Marte', 'Jupiter', 'Saturno', 'Urano', 'Neptuno']\n",
    "\n",
    "print(planetas)\n",
    "\n",
    "planetas.append('Pluton')\n",
    "\n",
    "print(\"El ultimo planeta es: \"+planetas[len(planetas)-1])"
   ]
  },
  {
   "cell_type": "markdown",
   "metadata": {},
   "source": [
    "### Ejercicio 02: Trabajando con datos de listas"
   ]
  },
  {
   "cell_type": "code",
   "execution_count": 16,
   "metadata": {},
   "outputs": [
    {
     "name": "stdout",
     "output_type": "stream",
     "text": [
      "Los planetas cercanos al planeta tierra son: ['Mercurio', 'Venus']\n",
      "Los planetas lejanos son: ['Marte', 'Jupiter', 'Saturno', 'Urano', 'Neptuno']\n"
     ]
    }
   ],
   "source": [
    "planetas = ['Mercurio', 'Venus', 'Tierra', 'Marte', 'Jupiter', 'Saturno', 'Urano', 'Neptuno']\n",
    "\n",
    "planetaUsuario = input(\"Inserte planera\")\n",
    "\n",
    "posicionPlaneta = planetas.index(planetaUsuario.title())\n",
    "\n",
    "print(\"Los planetas cercanos al planeta \"+planetaUsuario+\" son: \"+str(planetas[0:posicionPlaneta]))\n",
    "\n",
    "print(\"Los planetas lejanos son: \"+str(planetas[posicionPlaneta+1:]))"
   ]
  }
 ],
 "metadata": {
  "interpreter": {
   "hash": "cf3d4ca0615df8a20bfb57ce174bf2fdf4ca44e97064da47b4f1e609ca32c946"
  },
  "kernelspec": {
   "display_name": "Python 3.10.2 64-bit",
   "language": "python",
   "name": "python3"
  },
  "language_info": {
   "codemirror_mode": {
    "name": "ipython",
    "version": 3
   },
   "file_extension": ".py",
   "mimetype": "text/x-python",
   "name": "python",
   "nbconvert_exporter": "python",
   "pygments_lexer": "ipython3",
   "version": "3.10.2"
  },
  "orig_nbformat": 4
 },
 "nbformat": 4,
 "nbformat_minor": 2
}
