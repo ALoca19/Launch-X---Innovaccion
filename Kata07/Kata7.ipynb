{
 "cells": [
  {
   "cell_type": "markdown",
   "metadata": {},
   "source": [
    "# Kata 7"
   ]
  },
  {
   "cell_type": "markdown",
   "metadata": {},
   "source": [
    "### Ejercicio 01: Creacion de bucle While"
   ]
  },
  {
   "cell_type": "code",
   "execution_count": 3,
   "metadata": {},
   "outputs": [
    {
     "name": "stdout",
     "output_type": "stream",
     "text": [
      "Tierra\n",
      "Urano\n",
      "Neptuno\n",
      "Juptirer\n",
      "Saturno\n",
      "Urano\n"
     ]
    }
   ],
   "source": [
    "nuevoPlaneta = \"\"\n",
    "planetas = []\n",
    "\n",
    "nuevoPlaneta=input(\"Inseta planeta: \")\n",
    "while nuevoPlaneta.lower() != \"end\":\n",
    "    if nuevoPlaneta!=\"\":\n",
    "        planetas.append(nuevoPlaneta)\n",
    "    nuevoPlaneta=input(\"Inseta planeta: \")\n",
    "\n",
    "#Parte 02. Ejercio 02: Ciclo for\n",
    "\n",
    "for x in planetas:\n",
    "    print(x)"
   ]
  }
 ],
 "metadata": {
  "interpreter": {
   "hash": "cf3d4ca0615df8a20bfb57ce174bf2fdf4ca44e97064da47b4f1e609ca32c946"
  },
  "kernelspec": {
   "display_name": "Python 3.10.2 64-bit",
   "language": "python",
   "name": "python3"
  },
  "language_info": {
   "codemirror_mode": {
    "name": "ipython",
    "version": 3
   },
   "file_extension": ".py",
   "mimetype": "text/x-python",
   "name": "python",
   "nbconvert_exporter": "python",
   "pygments_lexer": "ipython3",
   "version": "3.10.2"
  },
  "orig_nbformat": 4
 },
 "nbformat": 4,
 "nbformat_minor": 2
}
