{
 "cells": [
  {
   "cell_type": "markdown",
   "metadata": {},
   "source": [
    "# Kata 09"
   ]
  },
  {
   "cell_type": "markdown",
   "metadata": {},
   "source": [
    "### Ejercicio 01: Trabajar con argumentos en funciones"
   ]
  },
  {
   "cell_type": "code",
   "execution_count": 2,
   "metadata": {},
   "outputs": [
    {
     "name": "stdout",
     "output_type": "stream",
     "text": [
      "Reporte:\n",
      "    Tanque 01: 5%\n",
      "    Tanque 02: 10%\n",
      "    Tanque 03: 9%\n",
      "    \n",
      "El promedio del los tanques es: 8.0\n"
     ]
    }
   ],
   "source": [
    "def leer3Tanques(promedioTanues):\n",
    "   \n",
    "    print(\"El promedio del los tanques es: \"+str(promedioTanues))\n",
    "\n",
    "def promedio(datos):\n",
    "    total=0\n",
    "    for x in datos:\n",
    "        total+=x\n",
    "    leer3Tanques(total/len(datos))\n",
    "\n",
    "\n",
    "def imprimirInfo(tanque01, tranque02, tanque03):\n",
    "    print(f\"\"\"Reporte:\n",
    "    Tanque 01: {tanque01}%\n",
    "    Tanque 02: {tranque02}%\n",
    "    Tanque 03: {tanque03}%\n",
    "    \"\"\")\n",
    "    promedio([tanque01, tranque02, tanque03])\n",
    "\n",
    "imprimirInfo(5,10,9)\n"
   ]
  },
  {
   "cell_type": "code",
   "execution_count": null,
   "metadata": {},
   "outputs": [],
   "source": []
  },
  {
   "cell_type": "markdown",
   "metadata": {},
   "source": [
    "### Ejercicio 02: Argumentos de palabra clave"
   ]
  },
  {
   "cell_type": "markdown",
   "metadata": {},
   "source": [
    "Considera hora de prelanzamiento, tiempo de vuelo, destino, tanque externo y tanque interno"
   ]
  },
  {
   "cell_type": "code",
   "execution_count": 8,
   "metadata": {},
   "outputs": [
    {
     "name": "stdout",
     "output_type": "stream",
     "text": [
      "\n",
      "    Hora de Prelanzamiento: 14\n",
      "    Tiempo de vuelo: 51 \n",
      "    Destino: Moon\n",
      "    Tanque Interno: 200000\n",
      "    Tanque Expertno: 300000\n",
      "    \n",
      "\n",
      "    Tiempo de vuelo: 65 \n",
      "    Destino: Moon\n",
      "    Tanque total: 500000\n",
      "    \n",
      "\n",
      "    Tiempo de vuelo: 65 \n",
      "    Destino: Moon\n",
      "    \n",
      "Tanque externo: 200000\n",
      "Tanque interno: 300000\n"
     ]
    }
   ],
   "source": [
    "def mision(horaPre, tiempoVuelo, destino, tanqueExterno, tanqueInterno):\n",
    "    print(f\"\"\"\n",
    "    Hora de Prelanzamiento: {horaPre}\n",
    "    Tiempo de vuelo: {tiempoVuelo} \n",
    "    Destino: {destino}\n",
    "    Tanque Interno: {tanqueExterno}\n",
    "    Tanque Expertno: {tanqueInterno}\n",
    "    \"\"\")\n",
    "\n",
    "mision(14, 51, \"Moon\", 200000, 300000)\n",
    "\n",
    "def mision2(destino, *minutos, **depositoCompustible):\n",
    "    print(f\"\"\"\n",
    "    Tiempo de vuelo: {sum(minutos)} \n",
    "    Destino: {destino}\n",
    "    Tanque total: {sum(depositoCompustible.values())}\n",
    "    \"\"\")\n",
    "\n",
    "mision2(\"Moon\",14, 51, externo=200000, interno=300000)\n",
    "\n",
    "def mision3(destino, *minutos, **depositoCompustible):\n",
    "    print(f\"\"\"\n",
    "    Tiempo de vuelo: {sum(minutos)} \n",
    "    Destino: {destino}\n",
    "    \"\"\")\n",
    "    for nombraTanque, gasolina in depositoCompustible.items():\n",
    "        print(f'Tanque {nombraTanque}: {gasolina}')\n",
    "\n",
    "mision3(\"Moon\",14, 51, externo=200000, interno=300000)"
   ]
  }
 ],
 "metadata": {
  "interpreter": {
   "hash": "cf3d4ca0615df8a20bfb57ce174bf2fdf4ca44e97064da47b4f1e609ca32c946"
  },
  "kernelspec": {
   "display_name": "Python 3.10.2 64-bit",
   "language": "python",
   "name": "python3"
  },
  "language_info": {
   "codemirror_mode": {
    "name": "ipython",
    "version": 3
   },
   "file_extension": ".py",
   "mimetype": "text/x-python",
   "name": "python",
   "nbconvert_exporter": "python",
   "pygments_lexer": "ipython3",
   "version": "3.10.2"
  },
  "orig_nbformat": 4
 },
 "nbformat": 4,
 "nbformat_minor": 2
}
