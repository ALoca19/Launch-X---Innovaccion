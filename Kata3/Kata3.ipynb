{
 "cells": [
  {
   "cell_type": "markdown",
   "metadata": {},
   "source": [
    "# Kata 3"
   ]
  },
  {
   "cell_type": "markdown",
   "metadata": {},
   "source": [
    "### Ejercicio 01\n",
    "Para este ejercicio, escribirás una lógica condicional que imprima una advertencia si un asteroide se acerca a la Tierra demasiado rápido. La velocidad del asteroide varía dependiendo de lo cerca que esté del sol, y cualquier velocidad superior a 25 kilómetros por segundo (km/s) merece una advertencia."
   ]
  },
  {
   "cell_type": "code",
   "execution_count": 6,
   "metadata": {},
   "outputs": [
    {
     "name": "stdout",
     "output_type": "stream",
     "text": [
      "Hi!, A que velocidad viene el asteroide? \n",
      "Otro dia mas de vida :)\n"
     ]
    }
   ],
   "source": [
    "print(\"Hi!, A que velocidad viene el asteroide? \")\n",
    "velocidadAsteroide = int(input())\n",
    "\n",
    "if velocidadAsteroide>25:\n",
    "    print(\"Moriremos todos\")\n",
    "else:\n",
    "    print(\"Otro dia mas de vida :)\")\n"
   ]
  },
  {
   "cell_type": "markdown",
   "metadata": {},
   "source": [
    "### Ejercicio 02\n",
    "Si un asteroide entra en la atmósfera de la Tierra a una velocidad mayor o igual a 20 km/s, a veces produce un rayo de luz que se puede ver desde la Tierra. Escribe la lógica condicional que usa declaraciones if, else, y elif para alertar a las personas de todo el mundo que deben buscar un asteroide en el cielo. ¡Hay uno que se dirige a la tierra ahora a una velocidad de 19 km/s!"
   ]
  },
  {
   "cell_type": "code",
   "execution_count": 9,
   "metadata": {},
   "outputs": [
    {
     "name": "stdout",
     "output_type": "stream",
     "text": [
      "Lo pueden ver?! No vallan hacia la luz!!\n"
     ]
    }
   ],
   "source": [
    "velocidadAsteroide=20\n",
    "\n",
    "if velocidadAsteroide>= 20 and velocidadAsteroide<25:\n",
    "    print(\"Lo pueden ver?! No vallan hacia la luz!!\")\n",
    "elif velocidadAsteroide == 0:\n",
    "    print(\"No se ha detectado el movimiento de ningun asteroide\")\n",
    "elif velocidadAsteroide > 25:\n",
    "    print(\"Nos vamos a morir\")\n",
    "elif velocidadAsteroide==25:\n",
    "    print(\"probablemente vivamos probablemente muramos no se\")\n",
    "else:\n",
    "    print(\"Que bonita vencidad\")"
   ]
  },
  {
   "cell_type": "markdown",
   "metadata": {},
   "source": [
    "### Ejercicio 03\n",
    "*Los asteroides de menos de 25 metros en su dimensión más grande probablemente se quemarán a medida que entren en la atmósfera de la Tierra.\n",
    "\n",
    "Si una pieza de un asteroide que es más grande que 25 metros pero más pequeña que 1000 metros golpeara la Tierra, causaría mucho daño.\n",
    "También discutimos en el ejercicio anterior que:\n",
    "\n",
    "La velocidad del asteroide varía en función de lo cerca que esté del sol, y cualquier velocidad superior a 25 kilómetros por segundo (km/s) merece una advertencia.\n",
    "Si un asteroide entra en la atmósfera de la Tierra a una velocidad mayor o igual a 20 km/s, a veces produce un rayo de luz que se puede ver desde la Tierra.\n",
    "Usando toda esta información, escribe un programa que emita la advertencia o información correcta a la gente de la Tierra, según la velocidad y el tamaño de un asteroide. Utiliza instrucciones if, else, y elif, así como los operadores and y or."
   ]
  },
  {
   "cell_type": "code",
   "execution_count": 11,
   "metadata": {},
   "outputs": [
    {
     "name": "stdout",
     "output_type": "stream",
     "text": [
      "Si la luz no se hace mas grande todo chido\n"
     ]
    }
   ],
   "source": [
    "tamañoAsteroide = 25\n",
    "velocidadAsteroide = 20\n",
    "\n",
    "if velocidadAsteroide>25:\n",
    "    if tamañoAsteroide<25:\n",
    "        print(\"Probablemente el asteroide se termine de desintegrar antes del impacto\")\n",
    "    elif tamañoAsteroide>25:\n",
    "        print(\"Muente subita\")\n",
    "    elif tamañoAsteroide==25:\n",
    "        print(\"Que la suerte nos acompañe\")\n",
    "elif velocidadAsteroide>=20:\n",
    "    print(\"Si la luz no se hace mas grande todo chido\")\n",
    "else: \n",
    "    print(\"todo tranqui\")\n",
    "\n"
   ]
  }
 ],
 "metadata": {
  "interpreter": {
   "hash": "cf3d4ca0615df8a20bfb57ce174bf2fdf4ca44e97064da47b4f1e609ca32c946"
  },
  "kernelspec": {
   "display_name": "Python 3.10.2 64-bit",
   "language": "python",
   "name": "python3"
  },
  "language_info": {
   "codemirror_mode": {
    "name": "ipython",
    "version": 3
   },
   "file_extension": ".py",
   "mimetype": "text/x-python",
   "name": "python",
   "nbconvert_exporter": "python",
   "pygments_lexer": "ipython3",
   "version": "3.10.2"
  },
  "orig_nbformat": 4
 },
 "nbformat": 4,
 "nbformat_minor": 2
}
