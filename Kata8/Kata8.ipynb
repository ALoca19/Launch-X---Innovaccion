{
 "cells": [
  {
   "cell_type": "markdown",
   "metadata": {},
   "source": [
    "# Kata 08"
   ]
  },
  {
   "cell_type": "markdown",
   "metadata": {},
   "source": [
    "### Ejercicio 01: Creacion de diccionarios de Python"
   ]
  },
  {
   "cell_type": "code",
   "execution_count": 8,
   "metadata": {},
   "outputs": [
    {
     "name": "stdout",
     "output_type": "stream",
     "text": [
      "El planeta Marte tiene 2 lunas\n",
      "El planeta Marte tiene una circunferencia polar de: 6792,6752\n",
      "Marte has a polar circumference of 6752\n"
     ]
    }
   ],
   "source": [
    "planeta = {\n",
    "    'nombre': 'Marte',\n",
    "    'lunas': 2\n",
    "}\n",
    "\n",
    "if planeta.get('lunas')==1:\n",
    "    print(\"El planeta \"+planeta.get('nombre')+\" tiene \"+ str(planeta.get('lunas'))+\" luna\")\n",
    "elif planeta.get('lunas')>1:\n",
    "    print(\"El planeta \"+planeta.get('nombre')+\" tiene \"+ str(planeta.get('lunas'))+\" lunas\")\n",
    "\n",
    "#Agregando nuevos valores al diccionario\n",
    "planeta['polar']=6752\n",
    "planeta['equatorial']=6792\n",
    "\n",
    "print(\"El planeta \"+planeta.get('nombre')+\" tiene una circunferencia polar de: \"+str(planeta.get('equatorial'))+\",\"+str(planeta.get('polar')))\n",
    "\n",
    "planeta['circumference (km)'] = {\n",
    "    'polar': 6752,\n",
    "    'equatorial': 6792\n",
    "}\n",
    "\n",
    "print(f'{planeta[\"nombre\"]} has a polar circumference of {planeta[\"circumference (km)\"][\"polar\"]}')"
   ]
  },
  {
   "cell_type": "markdown",
   "metadata": {},
   "source": [
    "### Ejercicio 02: Diccionario dinamicos"
   ]
  },
  {
   "cell_type": "code",
   "execution_count": 11,
   "metadata": {},
   "outputs": [
    {
     "name": "stdout",
     "output_type": "stream",
     "text": [
      "17.833333333333332\n"
     ]
    }
   ],
   "source": [
    "planet_moons = {\n",
    "    'mercury': 0,\n",
    "    'venus': 0,\n",
    "    'earth': 1,\n",
    "    'mars': 2,\n",
    "    'jupiter': 79,\n",
    "    'saturn': 82,\n",
    "    'uranus': 27,\n",
    "    'neptune': 14,\n",
    "    'pluto': 5,\n",
    "    'haumea': 2,\n",
    "    'makemake': 1,\n",
    "    'eris': 1\n",
    "}\n",
    "\n",
    "#Values -> Trae los elementos\n",
    "#Keys -> Trae el numero total de los elementos del diccionario\n",
    "moons = planet_moons.values()\n",
    "planets = len(planet_moons.keys())\n",
    "lunas=0\n",
    "\n",
    "for i in moons:\n",
    " lunas+=i\n",
    "\n",
    "print(str(lunas/planets))"
   ]
  }
 ],
 "metadata": {
  "interpreter": {
   "hash": "cf3d4ca0615df8a20bfb57ce174bf2fdf4ca44e97064da47b4f1e609ca32c946"
  },
  "kernelspec": {
   "display_name": "Python 3.10.2 64-bit",
   "language": "python",
   "name": "python3"
  },
  "language_info": {
   "codemirror_mode": {
    "name": "ipython",
    "version": 3
   },
   "file_extension": ".py",
   "mimetype": "text/x-python",
   "name": "python",
   "nbconvert_exporter": "python",
   "pygments_lexer": "ipython3",
   "version": "3.10.2"
  },
  "orig_nbformat": 4
 },
 "nbformat": 4,
 "nbformat_minor": 2
}
