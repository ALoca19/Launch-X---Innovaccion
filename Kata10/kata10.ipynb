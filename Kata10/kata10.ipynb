{
 "cells": [
  {
   "cell_type": "markdown",
   "metadata": {},
   "source": [
    "# Kata 10"
   ]
  },
  {
   "cell_type": "markdown",
   "metadata": {},
   "source": [
    "### Ejercicios: Errores"
   ]
  },
  {
   "cell_type": "markdown",
   "metadata": {},
   "source": [
    "### Tracebacks"
   ]
  },
  {
   "cell_type": "code",
   "execution_count": 2,
   "metadata": {},
   "outputs": [
    {
     "ename": "FileNotFoundError",
     "evalue": "[Errno 2] No such file or directory: '/path/to/mars.jpg'",
     "output_type": "error",
     "traceback": [
      "\u001b[1;31m---------------------------------------------------------------------------\u001b[0m",
      "\u001b[1;31mFileNotFoundError\u001b[0m                         Traceback (most recent call last)",
      "\u001b[1;32mc:\\Users\\anita\\Desktop\\Launch X - Innovaccion\\Kata10\\kata10.ipynb Cell 4'\u001b[0m in \u001b[0;36m<module>\u001b[1;34m\u001b[0m\n\u001b[1;32m----> <a href='vscode-notebook-cell:/c%3A/Users/anita/Desktop/Launch%20X%20-%20Innovaccion/Kata10/kata10.ipynb#ch0000003?line=0'>1</a>\u001b[0m \u001b[39mopen\u001b[39;49m(\u001b[39m\"\u001b[39;49m\u001b[39m/path/to/mars.jpg\u001b[39;49m\u001b[39m\"\u001b[39;49m)\n",
      "\u001b[1;31mFileNotFoundError\u001b[0m: [Errno 2] No such file or directory: '/path/to/mars.jpg'"
     ]
    }
   ],
   "source": [
    "open(\"/path/to/mars.jpg\")\n"
   ]
  },
  {
   "cell_type": "markdown",
   "metadata": {},
   "source": [
    "### Try y Except"
   ]
  },
  {
   "cell_type": "code",
   "execution_count": null,
   "metadata": {},
   "outputs": [],
   "source": [
    "try:\n",
    "    open('config.txt')\n",
    "except FileNotFoundError:\n",
    "    print(\"Couldn't find the config.txt file!\")"
   ]
  },
  {
   "cell_type": "code",
   "execution_count": 1,
   "metadata": {},
   "outputs": [],
   "source": [
    "def main():\n",
    "    try:\n",
    "        configuration = open('config.txt')\n",
    "    except FileNotFoundError:\n",
    "        print(\"Couldn't find the config.txt file!\")\n",
    "    except IsADirectoryError:\n",
    "        print(\"Found config.txt but it is a directory, couldn't read it\")\n",
    "    except (BlockingIOError, TimeoutError):\n",
    "        print(\"Filesystem under heavy load, can't complete reading configuration file\")"
   ]
  },
  {
   "cell_type": "code",
   "execution_count": 2,
   "metadata": {},
   "outputs": [],
   "source": [
    "try:\n",
    "    open(\"config.txt\")\n",
    "except OSError as err:\n",
    "    if err.errno == 2:\n",
    "        print(\"Couldn't find the config.txt file!\")\n",
    "    elif err.errno == 13:\n",
    "        print(\"Found config.txt but couldn't read it\")"
   ]
  },
  {
   "cell_type": "markdown",
   "metadata": {},
   "source": [
    "### Generacion de Excepciones"
   ]
  },
  {
   "cell_type": "code",
   "execution_count": 9,
   "metadata": {},
   "outputs": [
    {
     "ename": "TypeError",
     "evalue": "All arguments must be of type int, but received: '3'",
     "output_type": "error",
     "traceback": [
      "\u001b[1;31m---------------------------------------------------------------------------\u001b[0m",
      "\u001b[1;31mTypeError\u001b[0m                                 Traceback (most recent call last)",
      "\u001b[1;32mc:\\Users\\anita\\Desktop\\Launch X - Innovaccion\\Kata10\\kata10.ipynb Cell 10'\u001b[0m in \u001b[0;36mwater_left\u001b[1;34m(astronauts, water_left, days_left)\u001b[0m\n\u001b[0;32m      <a href='vscode-notebook-cell:/c%3A/Users/anita/Desktop/Launch%20X%20-%20Innovaccion/Kata10/kata10.ipynb#ch0000009?line=2'>3</a>\u001b[0m \u001b[39mtry\u001b[39;00m:\n\u001b[0;32m      <a href='vscode-notebook-cell:/c%3A/Users/anita/Desktop/Launch%20X%20-%20Innovaccion/Kata10/kata10.ipynb#ch0000009?line=3'>4</a>\u001b[0m     \u001b[39m# If argument is an int, the following operation will work\u001b[39;00m\n\u001b[1;32m----> <a href='vscode-notebook-cell:/c%3A/Users/anita/Desktop/Launch%20X%20-%20Innovaccion/Kata10/kata10.ipynb#ch0000009?line=4'>5</a>\u001b[0m     argument \u001b[39m/\u001b[39;49m \u001b[39m10\u001b[39;49m\n\u001b[0;32m      <a href='vscode-notebook-cell:/c%3A/Users/anita/Desktop/Launch%20X%20-%20Innovaccion/Kata10/kata10.ipynb#ch0000009?line=5'>6</a>\u001b[0m \u001b[39mexcept\u001b[39;00m \u001b[39mTypeError\u001b[39;00m:\n\u001b[0;32m      <a href='vscode-notebook-cell:/c%3A/Users/anita/Desktop/Launch%20X%20-%20Innovaccion/Kata10/kata10.ipynb#ch0000009?line=6'>7</a>\u001b[0m     \u001b[39m# TypError will be raised only if it isn't the right type \u001b[39;00m\n\u001b[0;32m      <a href='vscode-notebook-cell:/c%3A/Users/anita/Desktop/Launch%20X%20-%20Innovaccion/Kata10/kata10.ipynb#ch0000009?line=7'>8</a>\u001b[0m     \u001b[39m# Raise the same exception but with a better error message\u001b[39;00m\n",
      "\u001b[1;31mTypeError\u001b[0m: unsupported operand type(s) for /: 'str' and 'int'",
      "\nDuring handling of the above exception, another exception occurred:\n",
      "\u001b[1;31mTypeError\u001b[0m                                 Traceback (most recent call last)",
      "\u001b[1;32mc:\\Users\\anita\\Desktop\\Launch X - Innovaccion\\Kata10\\kata10.ipynb Cell 10'\u001b[0m in \u001b[0;36m<module>\u001b[1;34m\u001b[0m\n\u001b[0;32m     <a href='vscode-notebook-cell:/c%3A/Users/anita/Desktop/Launch%20X%20-%20Innovaccion/Kata10/kata10.ipynb#ch0000009?line=17'>18</a>\u001b[0m     \u001b[39mprint\u001b[39m(\u001b[39m\"\u001b[39m\u001b[39mError\u001b[39m\u001b[39m\"\u001b[39m, error)\n\u001b[0;32m     <a href='vscode-notebook-cell:/c%3A/Users/anita/Desktop/Launch%20X%20-%20Innovaccion/Kata10/kata10.ipynb#ch0000009?line=20'>21</a>\u001b[0m \u001b[39mtry\u001b[39;00m:\n\u001b[1;32m---> <a href='vscode-notebook-cell:/c%3A/Users/anita/Desktop/Launch%20X%20-%20Innovaccion/Kata10/kata10.ipynb#ch0000009?line=21'>22</a>\u001b[0m     water_left(\u001b[39m\"\u001b[39;49m\u001b[39m3\u001b[39;49m\u001b[39m\"\u001b[39;49m, \u001b[39m\"\u001b[39;49m\u001b[39m200\u001b[39;49m\u001b[39m\"\u001b[39;49m, \u001b[39mNone\u001b[39;49;00m)\n\u001b[0;32m     <a href='vscode-notebook-cell:/c%3A/Users/anita/Desktop/Launch%20X%20-%20Innovaccion/Kata10/kata10.ipynb#ch0000009?line=22'>23</a>\u001b[0m \u001b[39mexcept\u001b[39;00m \u001b[39mRuntimeError\u001b[39;00m \u001b[39mas\u001b[39;00m err:\n\u001b[0;32m     <a href='vscode-notebook-cell:/c%3A/Users/anita/Desktop/Launch%20X%20-%20Innovaccion/Kata10/kata10.ipynb#ch0000009?line=23'>24</a>\u001b[0m     alert_navigation_system(err)\n",
      "\u001b[1;32mc:\\Users\\anita\\Desktop\\Launch X - Innovaccion\\Kata10\\kata10.ipynb Cell 10'\u001b[0m in \u001b[0;36mwater_left\u001b[1;34m(astronauts, water_left, days_left)\u001b[0m\n\u001b[0;32m      <a href='vscode-notebook-cell:/c%3A/Users/anita/Desktop/Launch%20X%20-%20Innovaccion/Kata10/kata10.ipynb#ch0000009?line=4'>5</a>\u001b[0m         argument \u001b[39m/\u001b[39m \u001b[39m10\u001b[39m\n\u001b[0;32m      <a href='vscode-notebook-cell:/c%3A/Users/anita/Desktop/Launch%20X%20-%20Innovaccion/Kata10/kata10.ipynb#ch0000009?line=5'>6</a>\u001b[0m     \u001b[39mexcept\u001b[39;00m \u001b[39mTypeError\u001b[39;00m:\n\u001b[0;32m      <a href='vscode-notebook-cell:/c%3A/Users/anita/Desktop/Launch%20X%20-%20Innovaccion/Kata10/kata10.ipynb#ch0000009?line=6'>7</a>\u001b[0m         \u001b[39m# TypError will be raised only if it isn't the right type \u001b[39;00m\n\u001b[0;32m      <a href='vscode-notebook-cell:/c%3A/Users/anita/Desktop/Launch%20X%20-%20Innovaccion/Kata10/kata10.ipynb#ch0000009?line=7'>8</a>\u001b[0m         \u001b[39m# Raise the same exception but with a better error message\u001b[39;00m\n\u001b[1;32m----> <a href='vscode-notebook-cell:/c%3A/Users/anita/Desktop/Launch%20X%20-%20Innovaccion/Kata10/kata10.ipynb#ch0000009?line=8'>9</a>\u001b[0m         \u001b[39mraise\u001b[39;00m \u001b[39mTypeError\u001b[39;00m(\u001b[39mf\u001b[39m\u001b[39m\"\u001b[39m\u001b[39mAll arguments must be of type int, but received: \u001b[39m\u001b[39m'\u001b[39m\u001b[39m{\u001b[39;00margument\u001b[39m}\u001b[39;00m\u001b[39m'\u001b[39m\u001b[39m\"\u001b[39m)\n\u001b[0;32m     <a href='vscode-notebook-cell:/c%3A/Users/anita/Desktop/Launch%20X%20-%20Innovaccion/Kata10/kata10.ipynb#ch0000009?line=9'>10</a>\u001b[0m daily_usage \u001b[39m=\u001b[39m astronauts \u001b[39m*\u001b[39m \u001b[39m11\u001b[39m\n\u001b[0;32m     <a href='vscode-notebook-cell:/c%3A/Users/anita/Desktop/Launch%20X%20-%20Innovaccion/Kata10/kata10.ipynb#ch0000009?line=10'>11</a>\u001b[0m total_usage \u001b[39m=\u001b[39m daily_usage \u001b[39m*\u001b[39m days_left\n",
      "\u001b[1;31mTypeError\u001b[0m: All arguments must be of type int, but received: '3'"
     ]
    }
   ],
   "source": [
    "def water_left(astronauts, water_left, days_left):\n",
    "    for argument in [astronauts, water_left, days_left]:\n",
    "        try:\n",
    "            # If argument is an int, the following operation will work\n",
    "            argument / 10\n",
    "        except TypeError:\n",
    "            # TypError will be raised only if it isn't the right type \n",
    "            # Raise the same exception but with a better error message\n",
    "            raise TypeError(f\"All arguments must be of type int, but received: '{argument}'\")\n",
    "    daily_usage = astronauts * 11\n",
    "    total_usage = daily_usage * days_left\n",
    "    total_water_left = water_left - total_usage\n",
    "    if total_water_left < 0:\n",
    "        raise RuntimeError(f\"There is not enough water for {astronauts} astronauts after {days_left} days!\")\n",
    "    return f\"Total water left after {days_left} days is: {total_water_left} liters\"\n",
    "\n",
    "def alert_navigation_system(error):\n",
    "    print(\"Error\", error)\n",
    "\n",
    "\n",
    "try:\n",
    "    water_left(\"3\", \"200\", None)\n",
    "except RuntimeError as err:\n",
    "    alert_navigation_system(err)"
   ]
  }
 ],
 "metadata": {
  "interpreter": {
   "hash": "cf3d4ca0615df8a20bfb57ce174bf2fdf4ca44e97064da47b4f1e609ca32c946"
  },
  "kernelspec": {
   "display_name": "Python 3.10.2 64-bit",
   "language": "python",
   "name": "python3"
  },
  "language_info": {
   "codemirror_mode": {
    "name": "ipython",
    "version": 3
   },
   "file_extension": ".py",
   "mimetype": "text/x-python",
   "name": "python",
   "nbconvert_exporter": "python",
   "pygments_lexer": "ipython3",
   "version": "3.10.2"
  },
  "orig_nbformat": 4
 },
 "nbformat": 4,
 "nbformat_minor": 2
}
