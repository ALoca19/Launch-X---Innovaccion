{
 "cells": [
  {
   "cell_type": "markdown",
   "metadata": {},
   "source": [
    "# Kata 5"
   ]
  },
  {
   "cell_type": "markdown",
   "metadata": {},
   "source": [
    "### Ejercicio 01: Operadores Aritmeticos"
   ]
  },
  {
   "cell_type": "code",
   "execution_count": 1,
   "metadata": {},
   "outputs": [
    {
     "name": "stdout",
     "output_type": "stream",
     "text": [
      "Distancia es: -628949330\n",
      "-628949330Km en Millas es igual a: -390577533.93\n"
     ]
    }
   ],
   "source": [
    "distanciaTierra = 149597870\n",
    "distanciaJupiter= 778547200\n",
    "distancia=distanciaTierra-distanciaJupiter\n",
    "\n",
    "print(\"Distancia es: \"+str(distancia))\n",
    "print(str(distancia)+\"Km en Millas es igual a: \"+str(distancia*0.621))"
   ]
  },
  {
   "cell_type": "markdown",
   "metadata": {},
   "source": [
    "### Ejercicio 02: Convirtiendo cadenas en numeros y valores absolutos"
   ]
  },
  {
   "cell_type": "code",
   "execution_count": 7,
   "metadata": {},
   "outputs": [
    {
     "name": "stdout",
     "output_type": "stream",
     "text": [
      "La distancia de los planetas es: 5Km\n",
      "Su equivalencia en Millas es: 3.105\n"
     ]
    }
   ],
   "source": [
    "distancia1 = int(input(\"Distancia del primer planeta\"))\n",
    "distancia2 = int(input(\"Distancia del segundo planeta\"))\n",
    "distanciaFinal = distancia1-distancia2\n",
    "\n",
    "print(\"La distancia de los planetas es: \"+str(abs(distanciaFinal))+\"Km\")\n",
    "print(\"Su equivalencia en Millas es: \"+str((abs(distanciaFinal*0.621))))"
   ]
  }
 ],
 "metadata": {
  "interpreter": {
   "hash": "cf3d4ca0615df8a20bfb57ce174bf2fdf4ca44e97064da47b4f1e609ca32c946"
  },
  "kernelspec": {
   "display_name": "Python 3.10.2 64-bit",
   "language": "python",
   "name": "python3"
  },
  "language_info": {
   "codemirror_mode": {
    "name": "ipython",
    "version": 3
   },
   "file_extension": ".py",
   "mimetype": "text/x-python",
   "name": "python",
   "nbconvert_exporter": "python",
   "pygments_lexer": "ipython3",
   "version": "3.10.2"
  },
  "orig_nbformat": 4
 },
 "nbformat": 4,
 "nbformat_minor": 2
}
